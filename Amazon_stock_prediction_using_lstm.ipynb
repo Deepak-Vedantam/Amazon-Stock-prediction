{
  "nbformat": 4,
  "nbformat_minor": 0,
  "metadata": {
    "colab": {
      "name": "Amazon stock prediction using lstm.ipynb",
      "provenance": [],
      "collapsed_sections": []
    },
    "kernelspec": {
      "name": "python3",
      "display_name": "Python 3"
    },
    "accelerator": "GPU"
  },
  "cells": [
    {
      "cell_type": "markdown",
      "metadata": {
        "id": "S1ppnRSvm51t"
      },
      "source": [
        "#Import the libraries"
      ]
    },
    {
      "cell_type": "code",
      "metadata": {
        "id": "IPVXDOcNE0hs"
      },
      "source": [
        "import numpy as np\n",
        "import tensorflow as tf\n",
        "import pandas as pd\n",
        "from matplotlib import pyplot as plt\n",
        "import keras\n",
        "from keras import Sequential\n",
        "from tensorflow.keras.layers import Dense,Dropout,LSTM,GRU\n",
        "from sklearn.model_selection import train_test_split\n",
        "from sklearn.preprocessing import MinMaxScaler "
      ],
      "execution_count": 1,
      "outputs": []
    },
    {
      "cell_type": "markdown",
      "metadata": {
        "id": "_D22FIuNigYO"
      },
      "source": [
        "# Read the data"
      ]
    },
    {
      "cell_type": "code",
      "metadata": {
        "id": "dJkXrI7cFLP7",
        "outputId": "7fc250a6-dead-40cb-9ef4-a994d8980533",
        "colab": {
          "base_uri": "https://localhost:8080/",
          "height": 419
        }
      },
      "source": [
        "df=pd.read_csv('/content/AMZN (1).csv')\n",
        "df"
      ],
      "execution_count": 4,
      "outputs": [
        {
          "output_type": "execute_result",
          "data": {
            "text/html": [
              "<div>\n",
              "<style scoped>\n",
              "    .dataframe tbody tr th:only-of-type {\n",
              "        vertical-align: middle;\n",
              "    }\n",
              "\n",
              "    .dataframe tbody tr th {\n",
              "        vertical-align: top;\n",
              "    }\n",
              "\n",
              "    .dataframe thead th {\n",
              "        text-align: right;\n",
              "    }\n",
              "</style>\n",
              "<table border=\"1\" class=\"dataframe\">\n",
              "  <thead>\n",
              "    <tr style=\"text-align: right;\">\n",
              "      <th></th>\n",
              "      <th>Date</th>\n",
              "      <th>Open</th>\n",
              "      <th>High</th>\n",
              "      <th>Low</th>\n",
              "      <th>Close</th>\n",
              "      <th>Adj Close</th>\n",
              "      <th>Volume</th>\n",
              "    </tr>\n",
              "  </thead>\n",
              "  <tbody>\n",
              "    <tr>\n",
              "      <th>0</th>\n",
              "      <td>1997-05-16</td>\n",
              "      <td>1.968750</td>\n",
              "      <td>1.979167</td>\n",
              "      <td>1.708333</td>\n",
              "      <td>1.729167</td>\n",
              "      <td>1.729167</td>\n",
              "      <td>14700000</td>\n",
              "    </tr>\n",
              "    <tr>\n",
              "      <th>1</th>\n",
              "      <td>1997-05-19</td>\n",
              "      <td>1.760417</td>\n",
              "      <td>1.770833</td>\n",
              "      <td>1.625000</td>\n",
              "      <td>1.708333</td>\n",
              "      <td>1.708333</td>\n",
              "      <td>6106800</td>\n",
              "    </tr>\n",
              "    <tr>\n",
              "      <th>2</th>\n",
              "      <td>1997-05-20</td>\n",
              "      <td>1.729167</td>\n",
              "      <td>1.750000</td>\n",
              "      <td>1.635417</td>\n",
              "      <td>1.635417</td>\n",
              "      <td>1.635417</td>\n",
              "      <td>5467200</td>\n",
              "    </tr>\n",
              "    <tr>\n",
              "      <th>3</th>\n",
              "      <td>1997-05-21</td>\n",
              "      <td>1.635417</td>\n",
              "      <td>1.645833</td>\n",
              "      <td>1.375000</td>\n",
              "      <td>1.427083</td>\n",
              "      <td>1.427083</td>\n",
              "      <td>18853200</td>\n",
              "    </tr>\n",
              "    <tr>\n",
              "      <th>4</th>\n",
              "      <td>1997-05-22</td>\n",
              "      <td>1.437500</td>\n",
              "      <td>1.447917</td>\n",
              "      <td>1.312500</td>\n",
              "      <td>1.395833</td>\n",
              "      <td>1.395833</td>\n",
              "      <td>11776800</td>\n",
              "    </tr>\n",
              "    <tr>\n",
              "      <th>...</th>\n",
              "      <td>...</td>\n",
              "      <td>...</td>\n",
              "      <td>...</td>\n",
              "      <td>...</td>\n",
              "      <td>...</td>\n",
              "      <td>...</td>\n",
              "      <td>...</td>\n",
              "    </tr>\n",
              "    <tr>\n",
              "      <th>5896</th>\n",
              "      <td>2020-10-20</td>\n",
              "      <td>3222.280029</td>\n",
              "      <td>3266.000000</td>\n",
              "      <td>3192.010010</td>\n",
              "      <td>3217.010010</td>\n",
              "      <td>3217.010010</td>\n",
              "      <td>4509700</td>\n",
              "    </tr>\n",
              "    <tr>\n",
              "      <th>5897</th>\n",
              "      <td>2020-10-21</td>\n",
              "      <td>3212.500000</td>\n",
              "      <td>3233.879883</td>\n",
              "      <td>3160.000000</td>\n",
              "      <td>3184.939941</td>\n",
              "      <td>3184.939941</td>\n",
              "      <td>4592700</td>\n",
              "    </tr>\n",
              "    <tr>\n",
              "      <th>5898</th>\n",
              "      <td>2020-10-22</td>\n",
              "      <td>3189.870117</td>\n",
              "      <td>3198.750000</td>\n",
              "      <td>3121.939941</td>\n",
              "      <td>3176.399902</td>\n",
              "      <td>3176.399902</td>\n",
              "      <td>4212000</td>\n",
              "    </tr>\n",
              "    <tr>\n",
              "      <th>5899</th>\n",
              "      <td>2020-10-23</td>\n",
              "      <td>3191.000000</td>\n",
              "      <td>3205.330078</td>\n",
              "      <td>3140.000000</td>\n",
              "      <td>3204.399902</td>\n",
              "      <td>3204.399902</td>\n",
              "      <td>3466700</td>\n",
              "    </tr>\n",
              "    <tr>\n",
              "      <th>5900</th>\n",
              "      <td>2020-10-26</td>\n",
              "      <td>3198.739990</td>\n",
              "      <td>3282.979980</td>\n",
              "      <td>3153.300049</td>\n",
              "      <td>3207.040039</td>\n",
              "      <td>3207.040039</td>\n",
              "      <td>5851500</td>\n",
              "    </tr>\n",
              "  </tbody>\n",
              "</table>\n",
              "<p>5901 rows × 7 columns</p>\n",
              "</div>"
            ],
            "text/plain": [
              "            Date         Open         High  ...        Close    Adj Close    Volume\n",
              "0     1997-05-16     1.968750     1.979167  ...     1.729167     1.729167  14700000\n",
              "1     1997-05-19     1.760417     1.770833  ...     1.708333     1.708333   6106800\n",
              "2     1997-05-20     1.729167     1.750000  ...     1.635417     1.635417   5467200\n",
              "3     1997-05-21     1.635417     1.645833  ...     1.427083     1.427083  18853200\n",
              "4     1997-05-22     1.437500     1.447917  ...     1.395833     1.395833  11776800\n",
              "...          ...          ...          ...  ...          ...          ...       ...\n",
              "5896  2020-10-20  3222.280029  3266.000000  ...  3217.010010  3217.010010   4509700\n",
              "5897  2020-10-21  3212.500000  3233.879883  ...  3184.939941  3184.939941   4592700\n",
              "5898  2020-10-22  3189.870117  3198.750000  ...  3176.399902  3176.399902   4212000\n",
              "5899  2020-10-23  3191.000000  3205.330078  ...  3204.399902  3204.399902   3466700\n",
              "5900  2020-10-26  3198.739990  3282.979980  ...  3207.040039  3207.040039   5851500\n",
              "\n",
              "[5901 rows x 7 columns]"
            ]
          },
          "metadata": {
            "tags": []
          },
          "execution_count": 4
        }
      ]
    },
    {
      "cell_type": "code",
      "metadata": {
        "id": "01MvQAyCMVdn",
        "outputId": "e68ab257-e034-42e7-9afa-6c0dbde354ab",
        "colab": {
          "base_uri": "https://localhost:8080/"
        }
      },
      "source": [
        "df.iloc[:,1].describe()"
      ],
      "execution_count": 5,
      "outputs": [
        {
          "output_type": "execute_result",
          "data": {
            "text/plain": [
              "count    5901.000000\n",
              "mean      401.743911\n",
              "std       649.114450\n",
              "min         1.406250\n",
              "25%        38.125000\n",
              "50%        84.629997\n",
              "75%       373.489990\n",
              "max      3547.000000\n",
              "Name: Open, dtype: float64"
            ]
          },
          "metadata": {
            "tags": []
          },
          "execution_count": 5
        }
      ]
    },
    {
      "cell_type": "markdown",
      "metadata": {
        "id": "BlKT8bAmiorp"
      },
      "source": [
        "#Split into Train and Visualize it\n"
      ]
    },
    {
      "cell_type": "code",
      "metadata": {
        "id": "ZA0f4CDIFnEE"
      },
      "source": [
        "X=df['Open']\n",
        "x=np.array(X[:5700])\n",
        "x=x.reshape(x.shape[0],1)"
      ],
      "execution_count": 25,
      "outputs": []
    },
    {
      "cell_type": "code",
      "metadata": {
        "id": "W0QIuIyoIEha",
        "outputId": "67d24a9e-bce1-4836-b6af-bc1a2ecfb136",
        "colab": {
          "base_uri": "https://localhost:8080/"
        }
      },
      "source": [
        "x.shape"
      ],
      "execution_count": 26,
      "outputs": [
        {
          "output_type": "execute_result",
          "data": {
            "text/plain": [
              "(5700, 1)"
            ]
          },
          "metadata": {
            "tags": []
          },
          "execution_count": 26
        }
      ]
    },
    {
      "cell_type": "code",
      "metadata": {
        "id": "HnFsFnz7meDb",
        "outputId": "3df01194-f7b3-4998-c1f1-ff6e1e6c0a1e",
        "colab": {
          "base_uri": "https://localhost:8080/",
          "height": 282
        }
      },
      "source": [
        "plt.plot(x,c='b')"
      ],
      "execution_count": 67,
      "outputs": [
        {
          "output_type": "execute_result",
          "data": {
            "text/plain": [
              "[<matplotlib.lines.Line2D at 0x7fc3a36a9a90>]"
            ]
          },
          "metadata": {
            "tags": []
          },
          "execution_count": 67
        },
        {
          "output_type": "display_data",
          "data": {
            "image/png": "[encoded data removed]",
            "text/plain": [
              "<Figure size 432x288 with 1 Axes>"
            ]
          },
          "metadata": {
            "tags": [],
            "needs_background": "light"
          }
        }
      ]
    },
    {
      "cell_type": "markdown",
      "metadata": {
        "id": "b87xMsLpjG1M"
      },
      "source": [
        "# Scale the data using MinmaxScaler"
      ]
    },
    {
      "cell_type": "code",
      "metadata": {
        "id": "9xNk3G4pIez0"
      },
      "source": [
        "scaler=MinMaxScaler(feature_range=(0,1))\n",
        "x=scaler.fit_transform(x)"
      ],
      "execution_count": 27,
      "outputs": []
    },
    {
      "cell_type": "markdown",
      "metadata": {
        "id": "qIsAh5BujTPX"
      },
      "source": [
        "#Create Sequences"
      ]
    },
    {
      "cell_type": "code",
      "metadata": {
        "id": "M2XpWkXcITvE"
      },
      "source": [
        "def create_dataset(data,time_step):\n",
        "    X_train=[]\n",
        "    Y_train=[]\n",
        "    for i in range(len(data)-time_step-1):\n",
        "      a=(data[i:(i+time_step),0])\n",
        "      X_train.append(a)\n",
        "      Y_train.append(data[i+time_step,0])\n",
        "    return np.array(X_train),np.array(Y_train)\n"
      ],
      "execution_count": 28,
      "outputs": []
    },
    {
      "cell_type": "code",
      "metadata": {
        "id": "T01jkWn3JWsH",
        "outputId": "0c4d51c4-737f-45e1-b969-3519f1829f2f",
        "colab": {
          "base_uri": "https://localhost:8080/"
        }
      },
      "source": [
        "X_train,Y_train=create_dataset(x,30)\n",
        "print(X_train.shape,Y_train.shape)"
      ],
      "execution_count": 29,
      "outputs": [
        {
          "output_type": "stream",
          "text": [
            "(5669, 30) (5669,)\n"
          ],
          "name": "stdout"
        }
      ]
    },
    {
      "cell_type": "code",
      "metadata": {
        "id": "Reh6VnofPYxn",
        "outputId": "608653fb-eb97-4137-cfb8-38d13b9222b3",
        "colab": {
          "base_uri": "https://localhost:8080/"
        }
      },
      "source": [
        "X_train=X_train.reshape(X_train.shape[0],X_train.shape[1],1)\n",
        "print(X_train.shape)"
      ],
      "execution_count": 30,
      "outputs": [
        {
          "output_type": "stream",
          "text": [
            "(5669, 30, 1)\n"
          ],
          "name": "stdout"
        }
      ]
    },
    {
      "cell_type": "markdown",
      "metadata": {
        "id": "wYFELgUqjQFm"
      },
      "source": [
        "#The Model"
      ]
    },
    {
      "cell_type": "code",
      "metadata": {
        "id": "7hX9sNvBJQHd",
        "outputId": "b51ea8b3-76cd-421a-cb90-ca987873e8be",
        "colab": {
          "base_uri": "https://localhost:8080/"
        }
      },
      "source": [
        "model=Sequential()\n",
        "model.add(LSTM(100,activation='tanh',input_shape=(X_train.shape[1],X_train.shape[2]),return_sequences=True))\n",
        "model.add(LSTM(100,return_sequences=True))\n",
        "model.add(LSTM(100,return_sequences=False))\n",
        "model.add(Dense(1,activation='linear'))\n",
        "print(model.summary())"
      ],
      "execution_count": 31,
      "outputs": [
        {
          "output_type": "stream",
          "text": [
            "Model: \"sequential_1\"\n",
            "_________________________________________________________________\n",
            "Layer (type)                 Output Shape              Param #   \n",
            "=================================================================\n",
            "lstm_3 (LSTM)                (None, 30, 100)           40800     \n",
            "_________________________________________________________________\n",
            "lstm_4 (LSTM)                (None, 30, 100)           80400     \n",
            "_________________________________________________________________\n",
            "lstm_5 (LSTM)                (None, 100)               80400     \n",
            "_________________________________________________________________\n",
            "dense_1 (Dense)              (None, 1)                 101       \n",
            "=================================================================\n",
            "Total params: 201,701\n",
            "Trainable params: 201,701\n",
            "Non-trainable params: 0\n",
            "_________________________________________________________________\n",
            "None\n"
          ],
          "name": "stdout"
        }
      ]
    },
    {
      "cell_type": "code",
      "metadata": {
        "id": "Y-P73IrHJZIz"
      },
      "source": [
        "model.compile(optimizer='rmsprop',loss='mse')"
      ],
      "execution_count": 35,
      "outputs": []
    },
    {
      "cell_type": "code",
      "metadata": {
        "id": "yiwIYLnSQUl3",
        "outputId": "b6f995f5-b9a3-4bd8-ebf6-3b3a76f7f4ca",
        "colab": {
          "base_uri": "https://localhost:8080/"
        }
      },
      "source": [
        "history=model.fit(X_train,Y_train,epochs=20)"
      ],
      "execution_count": 36,
      "outputs": [
        {
          "output_type": "stream",
          "text": [
            "Epoch 1/20\n",
            "178/178 [==============================] - 5s 29ms/step - loss: 0.0063\n",
            "Epoch 2/20\n",
            "178/178 [==============================] - 5s 29ms/step - loss: 0.0014\n",
            "Epoch 3/20\n",
            "178/178 [==============================] - 5s 29ms/step - loss: 9.1655e-04\n",
            "Epoch 4/20\n",
            "178/178 [==============================] - 5s 29ms/step - loss: 7.5317e-04\n",
            "Epoch 5/20\n",
            "178/178 [==============================] - 5s 29ms/step - loss: 5.9312e-04\n",
            "Epoch 6/20\n",
            "178/178 [==============================] - 5s 29ms/step - loss: 5.2037e-04\n",
            "Epoch 7/20\n",
            "178/178 [==============================] - 5s 29ms/step - loss: 4.2096e-04\n",
            "Epoch 8/20\n",
            "178/178 [==============================] - 5s 29ms/step - loss: 3.7731e-04\n",
            "Epoch 9/20\n",
            "178/178 [==============================] - 5s 29ms/step - loss: 3.5366e-04\n",
            "Epoch 10/20\n",
            "178/178 [==============================] - 5s 29ms/step - loss: 3.2283e-04\n",
            "Epoch 11/20\n",
            "178/178 [==============================] - 5s 29ms/step - loss: 3.1517e-04\n",
            "Epoch 12/20\n",
            "178/178 [==============================] - 5s 29ms/step - loss: 2.8087e-04\n",
            "Epoch 13/20\n",
            "178/178 [==============================] - 5s 29ms/step - loss: 2.6410e-04\n",
            "Epoch 14/20\n",
            "178/178 [==============================] - 5s 29ms/step - loss: 2.3248e-04\n",
            "Epoch 15/20\n",
            "178/178 [==============================] - 5s 29ms/step - loss: 2.4569e-04\n",
            "Epoch 16/20\n",
            "178/178 [==============================] - 5s 29ms/step - loss: 2.2356e-04\n",
            "Epoch 17/20\n",
            "178/178 [==============================] - 5s 29ms/step - loss: 2.4666e-04\n",
            "Epoch 18/20\n",
            "178/178 [==============================] - 5s 29ms/step - loss: 2.2752e-04\n",
            "Epoch 19/20\n",
            "178/178 [==============================] - 5s 29ms/step - loss: 1.9011e-04\n",
            "Epoch 20/20\n",
            "178/178 [==============================] - 5s 29ms/step - loss: 1.8825e-04\n"
          ],
          "name": "stdout"
        }
      ]
    },
    {
      "cell_type": "code",
      "metadata": {
        "id": "Q0AiwNifjabj",
        "outputId": "93cf209c-ccc2-4ea2-9187-4e6f547b1ccc",
        "colab": {
          "base_uri": "https://localhost:8080/",
          "height": 265
        }
      },
      "source": [
        "plt.plot(history.history['loss'],c='b')\n",
        "plt.show()"
      ],
      "execution_count": 37,
      "outputs": [
        {
          "output_type": "display_data",
          "data": {
            "image/png": "[encoded data removed]",
            "text/plain": [
              "<Figure size 432x288 with 1 Axes>"
            ]
          },
          "metadata": {
            "tags": [],
            "needs_background": "light"
          }
        }
      ]
    },
    {
      "cell_type": "markdown",
      "metadata": {
        "id": "RZOyatDwi7Ha"
      },
      "source": [
        "# Split the data into Test Set"
      ]
    },
    {
      "cell_type": "code",
      "metadata": {
        "id": "XsHG_QQ8Qbba"
      },
      "source": [
        "x_test=np.array(X[5700:])\n",
        "x_test=x_test.reshape(x_test.shape[0],1)\n",
        "x_test=scaler.fit_transform(x_test)"
      ],
      "execution_count": 38,
      "outputs": []
    },
    {
      "cell_type": "code",
      "metadata": {
        "id": "i7AMEnSSREO8",
        "outputId": "22fd6f26-4bc9-4ae9-ba41-98d032ef25dd",
        "colab": {
          "base_uri": "https://localhost:8080/"
        }
      },
      "source": [
        "X_test,Y_test=create_dataset(x_test,30)\n",
        "print(X_test.shape,Y_test.shape)"
      ],
      "execution_count": 39,
      "outputs": [
        {
          "output_type": "stream",
          "text": [
            "(170, 30) (170,)\n"
          ],
          "name": "stdout"
        }
      ]
    },
    {
      "cell_type": "markdown",
      "metadata": {
        "id": "DQmpW5_fj8lL"
      },
      "source": [
        "#View the data distribution"
      ]
    },
    {
      "cell_type": "code",
      "metadata": {
        "id": "OrXkQdX5YuPj",
        "outputId": "1b6b1253-922d-4dc6-e99d-a99d4fccfb6a",
        "colab": {
          "base_uri": "https://localhost:8080/",
          "height": 282
        }
      },
      "source": [
        "plt.plot(scaler.inverse_transform(x_test))"
      ],
      "execution_count": 40,
      "outputs": [
        {
          "output_type": "execute_result",
          "data": {
            "text/plain": [
              "[<matplotlib.lines.Line2D at 0x7fc39d028748>]"
            ]
          },
          "metadata": {
            "tags": []
          },
          "execution_count": 40
        },
        {
          "output_type": "display_data",
          "data": {
            "image/png": "[encoded data removed]",
            "text/plain": [
              "<Figure size 432x288 with 1 Axes>"
            ]
          },
          "metadata": {
            "tags": [],
            "needs_background": "light"
          }
        }
      ]
    },
    {
      "cell_type": "code",
      "metadata": {
        "id": "FouilekoRPvQ",
        "outputId": "d5653dea-a1fd-405a-d085-456901a1e5bd",
        "colab": {
          "base_uri": "https://localhost:8080/"
        }
      },
      "source": [
        "X_test=X_test.reshape(X_test.shape[0],X_test.shape[1],1)\n",
        "X_test.shape"
      ],
      "execution_count": 41,
      "outputs": [
        {
          "output_type": "execute_result",
          "data": {
            "text/plain": [
              "(170, 30, 1)"
            ]
          },
          "metadata": {
            "tags": []
          },
          "execution_count": 41
        }
      ]
    },
    {
      "cell_type": "markdown",
      "metadata": {
        "id": "pcnd5WVskC3x"
      },
      "source": [
        "#The prediction"
      ]
    },
    {
      "cell_type": "code",
      "metadata": {
        "id": "UlAzeRfQRksU"
      },
      "source": [
        "Y_pred=model.predict(X_test)"
      ],
      "execution_count": 42,
      "outputs": []
    },
    {
      "cell_type": "code",
      "metadata": {
        "id": "wc2mtJ4_lZ73"
      },
      "source": [
        "r=scaler.inverse_transform(Y_test.reshape(-1,1))\n",
        "q=scaler.inverse_transform(Y_pred)\n"
      ],
      "execution_count": 43,
      "outputs": []
    },
    {
      "cell_type": "markdown",
      "metadata": {
        "id": "XeiXJzCnkJFC"
      },
      "source": [
        "#Plotting predicted Data with the original Distribution"
      ]
    },
    {
      "cell_type": "code",
      "metadata": {
        "id": "zb-c-ws1SRtC",
        "outputId": "7b71751b-0f0c-494f-c2fe-f486cd6fb1d2",
        "colab": {
          "base_uri": "https://localhost:8080/",
          "height": 265
        }
      },
      "source": [
        "plt.plot(r,c='b')\n",
        "plt.plot(q,c='r')\n",
        "plt.show()"
      ],
      "execution_count": 44,
      "outputs": [
        {
          "output_type": "display_data",
          "data": {
            "image/png": "[encoded data removed]",
            "text/plain": [
              "<Figure size 432x288 with 1 Axes>"
            ]
          },
          "metadata": {
            "tags": [],
            "needs_background": "light"
          }
        }
      ]
    },
    {
      "cell_type": "markdown",
      "metadata": {
        "id": "NPdecy6ekY6I"
      },
      "source": [
        "#Check for the Next 'n' Days"
      ]
    },
    {
      "cell_type": "code",
      "metadata": {
        "id": "I-eIl_YZnLKP"
      },
      "source": [
        "def update(X_check,Y_new,Y_final):\n",
        "  e=float(Y_new[0])\n",
        "  d=X_check\n",
        "  d[0,0]=0\n",
        "  d[0,29]=e\n",
        "  Y_final.append(e)\n",
        "  X_check=d\n",
        "  return X_check,(Y_final)"
      ],
      "execution_count": 62,
      "outputs": []
    },
    {
      "cell_type": "code",
      "metadata": {
        "id": "OS2LnMvLIjlF"
      },
      "source": [
        "def predict_next(days):\n",
        "  X_check=np.array(X[5900-29:])\n",
        "  X_check=X_check.reshape(-1,1)\n",
        "  X_check=scaler.fit_transform(X_check)\n",
        "  X_check=X_check.reshape((1,30,1))\n",
        "  Y_final=[]\n",
        "  for i in range(0,days):\n",
        "    Y_new=model.predict(X_check)\n",
        "    X_check,Y_final=update(X_check,Y_new,Y_final)\n",
        "  return scaler.inverse_transform(np.array(Y_final).reshape(days,1))"
      ],
      "execution_count": 63,
      "outputs": []
    },
    {
      "cell_type": "code",
      "metadata": {
        "id": "r34jyN5VWPfd",
        "outputId": "d64d3bab-69f2-4524-ca55-e39d7e08eae1",
        "colab": {
          "base_uri": "https://localhost:8080/"
        }
      },
      "source": [
        "days=int(input(\"Enter The no of days you want to predict for: \"))\n",
        "final_prediction=predict_next(days)"
      ],
      "execution_count": 65,
      "outputs": [
        {
          "output_type": "stream",
          "text": [
            "Enter The no of days you want to predict for: 10\n"
          ],
          "name": "stdout"
        }
      ]
    },
    {
      "cell_type": "code",
      "metadata": {
        "id": "K3Kg9_87X9Tz",
        "outputId": "7729c392-b936-491c-b2f2-03e9cb24f043",
        "colab": {
          "base_uri": "https://localhost:8080/",
          "height": 285
        }
      },
      "source": [
        "plt.plot(final_prediction,c='b')"
      ],
      "execution_count": 66,
      "outputs": [
        {
          "output_type": "execute_result",
          "data": {
            "text/plain": [
              "[<matplotlib.lines.Line2D at 0x7fc3a324d550>]"
            ]
          },
          "metadata": {
            "tags": []
          },
          "execution_count": 66
        },
        {
          "output_type": "display_data",
          "data": {
            "image/png": "[encoded data removed]",
            "text/plain": [
              "<Figure size 432x288 with 1 Axes>"
            ]
          },
          "metadata": {
            "tags": [],
            "needs_background": "light"
          }
        }
      ]
    }
  ]
}